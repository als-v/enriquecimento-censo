{
 "cells": [
  {
   "cell_type": "code",
   "execution_count": 1,
   "metadata": {},
   "outputs": [],
   "source": [
    "from IPython.display import clear_output\n",
    "from datetime import timedelta\n",
    "import time as t\n",
    "import sys\n",
    "sys.path.insert(1, './script/')\n",
    "\n",
    "import censo as scCenso"
   ]
  },
  {
   "cell_type": "code",
   "execution_count": 2,
   "metadata": {},
   "outputs": [],
   "source": [
    "def mostraTextoTempo(texto, tempo):\n",
    "    clear_output(wait=True)\n",
    "    print(f'{texto} em {timedelta(seconds=tempo)}s')\n",
    "\n",
    "def tempo_agregacaoDadosInep():\n",
    "    tempo = t.time()\n",
    "    dataFrameInep = scCenso.agregacaoDadosInep()\n",
    "    mostraTextoTempo('Finalizado agrupamento', t.time() - tempo)\n",
    "\n",
    "    return dataFrameInep\n",
    "\n",
    "def tempo_filtroDadosInep(dataFrame):\n",
    "    tempo = t.time()\n",
    "    dataFrameComputacao = scCenso.filtroDadosInep(dataFrame)\n",
    "    mostraTextoTempo('Finalizado filtragem', t.time() - tempo)\n",
    "\n",
    "    return dataFrameComputacao\n",
    "\n",
    "def tempo_criacaoDadosCurso(dataFrame):\n",
    "    tempo = t.time()\n",
    "    dataFrameCurso = scCenso.criacaoDadosCurso(dataFrame)\n",
    "    mostraTextoTempo('Finalizado criação do DataFrame', t.time() - tempo)\n",
    "\n",
    "    return dataFrameCurso\n",
    "\n",
    "def tempo_adicionaDadosIes(dataFrame):\n",
    "    tempo = t.time()\n",
    "    dataFrameIes = scCenso.adicionaDadosIes(dataFrame)\n",
    "    mostraTextoTempo('Finalizado adição de dados da IES', t.time() - tempo)\n",
    "\n",
    "    return dataFrameIes\n",
    "\n",
    "def tempo_calculoEvasao(dataFrame):\n",
    "    tempo = t.time()\n",
    "    dataFrameEvasao = scCenso.calculoEvasao(dataFrame)\n",
    "    mostraTextoTempo('Finalizado calculo evasão', t.time() - tempo)\n",
    "\n",
    "    return dataFrameEvasao\n",
    "\n",
    "def tempo_calculoPercentuais(dataFrame):\n",
    "    tempo = t.time()\n",
    "    dataFramePercentuais = scCenso.calculoPercentuais(dataFrame)\n",
    "    mostraTextoTempo('Finalizado calculo percentuais', t.time() - tempo)\n",
    "\n",
    "    return dataFramePercentuais\n",
    "\n",
    "def tempo_QTDDocentes(dataFrame):\n",
    "    tempo = t.time()\n",
    "    dataFrameDocentes = scCenso.calculoQuantidadeDocentes(dataFrame, scCenso.iesFiltradas(dataFrame))\n",
    "    mostraTextoTempo('Finalizado calculo QTD de docentes', t.time() - tempo)\n",
    "\n",
    "    return dataFrameDocentes\n",
    "\n",
    "def ajusteValores(dataFrame):\n",
    "    anos = [2009, 2010, 2011, 2012, 2013]\n",
    "    dataFrame.loc[dataFrame['C_EVASAO'] == 999999.0, ['C_EVASAO', 'C_PERMANENCIA']] = 0\n",
    "\n",
    "    for ano in anos:\n",
    "        dataFrame.loc[dataFrame['ANO'] == ano, 'C_QT_VG_NOVA'] = dataFrame.loc[dataFrame['ANO'] == ano, 'C_QT_VG_TOTAL']\n",
    "\n",
    "    return dataFrame\n",
    "\n",
    "def renomeiaColunas(dataFrame):\n",
    "    return dataFrame.rename(columns={\n",
    "        'C_QT_MAT':                     'INEP_CURSO_QUANTIDADE_MATRICULADOS', \n",
    "        'C_QT_ING':                     'INEP_CURSO_QUANTIDADE_INGRESSANTES',\n",
    "        'C_QT_CONC':                    'INEP_CURSO_QUANTIDADE_CONCLUINTES',\n",
    "        'C_QT_VG_NOVA':                 'INEP_CURSO_QUANTIDADE_VAGAS_NOVAS',\n",
    "        'C_QT_VG_TOTAL':                'INEP_CURSO_QUANTIDADE_VAGAS_TOTAL',\n",
    "        'C_QT_INSC_VG_NOVA':            'INEP_CURSO_QUANTIDADE_INSCRITOS_VAGAS_NOVAS',\n",
    "        'QT_INSCRITO_TOTAL':            'INEP_CURSO_QUANTIDADE_INSCRITOS_TOTAL',\n",
    "        'C_QT_ALUNO_DEFICIENTE':        'INEP_CURSO_QUANTIDADE_ALUNOS_DEFICIENTES',\n",
    "        'C_EVASAO':                     'INEP_CURSO_EVASAO',\n",
    "        'C_PERMANENCIA':                'INEP_CURSO_PERMANENCIA',\n",
    "        'C_QT_VETERANOS':               'INEP_CURSO_QUANTIDADE_VETERANOS',\n",
    "        'C_PERC_VAGA':                  'INEP_CURSO_CONCORRENCIA_VAGAS',\n",
    "        'C_DIF_VAGA_ANO':               'INEP_CURSO_DIFERENCA_VAGAS_ANO_ANTERIOR',\n",
    "        'PC_DOC_ALUNO':                 'INEP_CURSO_PERCENTUAL_DOCENTE_POR_ALUNO',\n",
    "        \n",
    "        'IES_TOT_ALUNO_DEFICIENTE':     'INEP_IES_QUANTIDADE_ALUNOS_DEFICIENTES',\n",
    "        'IES_QT_DOC_TOTAL':             'INEP_IES_QUANTIDADE_DOCENTES',\n",
    "        'IES_QT_TEC_SUPERIOR_TOTAL':    'INEP_IES_QUANTIDADE_DOCENTES_SUPERIOR',\n",
    "        'IES_QT_TEC_MESTRADO_TOTAL':    'INEP_IES_QUANTIDADE_DOCENTES_MESTRADO',\n",
    "        'IES_QT_TEC_DOUTORADO_TOTAL':   'INEP_IES_QUANTIDADE_DOCENTES_DOUTORADO',\n",
    "        'IES_QT_DOC_EXE':               'INEP_IES_QUANTIDADE_DOCENTES_EXERCICIO',\n",
    "        'IES_QT_DOC_EX_GRAD':           'INEP_IES_QUANTIDADE_DOCENTES_EXERCICIO_GRADUACAO',\n",
    "        'IES_QT_DOC_EX_MEST':           'INEP_IES_QUANTIDADE_DOCENTES_EXERCICIO_MESTRADO',\n",
    "        'IES_QT_DOC_EX_DOUT':           'INEP_IES_QUANTIDADE_DOCENTES_EXERCICIO_DOUTORADO',\n",
    "        'IES_QT_LIVRO_ELETRONICO':      'INEP_IES_QUANTIDADE_LIVROS_ELETRONICOS',\n",
    "\n",
    "        'C_QT_SIT_TRANCADA':            'INEP_CURSO_QUANTIDADE_ALUNOS_SITUACAO_TRANCADA',\n",
    "        'C_QT_SIT_TRANSFERIDO':         'INEP_CURSO_QUANTIDADE_ALUNOS_SITUACAO_TRANSFERIDO',\n",
    "        'C_QT_APOIO_SOCIAL':            'INEP_CURSO_QUANTIDADE_ALUNOS_APOIO_SOCIAL',\n",
    "        'C_QT_SIT_FALECIDO':            'INEP_CURSO_QUANTIDADE_ALUNOS_SITUACAO_FALECIDO',\n",
    "        'C_PERC_CONC':                  'INEP_CURSO_PERCENTUAL_CONCLUINTES',\n",
    "        'C_PERC_NCONC':                 'INEP_CURSO_PERCENTUAL_NAO_CONCLUINTES',\n",
    "        'C_PERC_VAGA_ANO':              'INEP_CURSO_PERCENTUAL_DIFERENCA_VAGAS_ANO_ANTERIOR',\n",
    "        'C_QT_ANOS':                    'INEP_CURSO_QUANTIDADE_ANOS_CENSO',\n",
    "    })\n"
   ]
  },
  {
   "cell_type": "code",
   "execution_count": 3,
   "metadata": {},
   "outputs": [
    {
     "name": "stdout",
     "output_type": "stream",
     "text": [
      "Finalizado calculo percentuais em 0:01:04.926248s\n",
      "Finalizado!\n",
      "\n"
     ]
    }
   ],
   "source": [
    "print('Agrupando os dados do Inep..\\n')\n",
    "dataFrameInep = tempo_agregacaoDadosInep()\n",
    "\n",
    "print('Calculo QTD docentes..\\n')\n",
    "dataFrameInep = tempo_QTDDocentes(dataFrameInep)\n",
    "\n",
    "print('Filtrando os dados do Inep..\\n')\n",
    "dataFrameComputacao = tempo_filtroDadosInep(dataFrameInep)\n",
    "\n",
    "print('Criando o dataFrame..\\n')\n",
    "dataFrameCurso = tempo_criacaoDadosCurso(dataFrameComputacao)\n",
    "\n",
    "print('Adicionando os dados das IES ao dataFrame..\\n')\n",
    "dataFrameCurso = tempo_adicionaDadosIes(dataFrameCurso)\n",
    "\n",
    "print('Realizando o calculo da evasão..\\n')\n",
    "dataFrameCurso = tempo_calculoEvasao(dataFrameCurso)\n",
    "\n",
    "print('Realizando o calculo da percentuais..\\n')\n",
    "dataFrameCurso = tempo_calculoPercentuais(dataFrameCurso)\n",
    "\n",
    "dataFrameCurso = ajusteValores(dataFrameCurso)\n",
    "\n",
    "print('Finalizado!\\n')"
   ]
  },
  {
   "cell_type": "code",
   "execution_count": 4,
   "metadata": {},
   "outputs": [],
   "source": [
    "dataFrameCurso = renomeiaColunas(dataFrameCurso)"
   ]
  },
  {
   "cell_type": "code",
   "execution_count": 5,
   "metadata": {},
   "outputs": [],
   "source": [
    "dataFrameCurso.to_csv(f'result/INEP.csv', index=False)"
   ]
  }
 ],
 "metadata": {
  "kernelspec": {
   "display_name": "Python 3",
   "language": "python",
   "name": "python3"
  },
  "language_info": {
   "codemirror_mode": {
    "name": "ipython",
    "version": 3
   },
   "file_extension": ".py",
   "mimetype": "text/x-python",
   "name": "python",
   "nbconvert_exporter": "python",
   "pygments_lexer": "ipython3",
   "version": "3.11.0"
  },
  "vscode": {
   "interpreter": {
    "hash": "397ded43423ab50173f91d648ca407046bf3aab8251a4e5cffb6ba8dc8b9667f"
   }
  }
 },
 "nbformat": 4,
 "nbformat_minor": 2
}
