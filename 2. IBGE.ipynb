{
 "cells": [
  {
   "cell_type": "code",
   "execution_count": 1,
   "metadata": {},
   "outputs": [],
   "source": [
    "from IPython.display import clear_output\n",
    "import pandas as pd\n",
    "import sys\n",
    "sys.path.insert(1, './script/')\n",
    "import ibge as scIBGE"
   ]
  },
  {
   "cell_type": "code",
   "execution_count": 2,
   "metadata": {},
   "outputs": [],
   "source": [
    "dataFrameINEP = pd.read_csv(f'result/INEP.csv')"
   ]
  },
  {
   "cell_type": "code",
   "execution_count": 3,
   "metadata": {},
   "outputs": [],
   "source": [
    "def ajusteNomeCidade(dataFrame):\n",
    "    dataFrame.loc[dataFrame['NO_MUNICIPIO'] == \"Santa Bárbara d'Oeste\", 'NO_MUNICIPIO'] = \"Santa Bárbara D'Oeste\"\n",
    "    dataFrame.loc[dataFrame['NO_MUNICIPIO'] == \"São João del Rei\", 'NO_MUNICIPIO'] = \"São João Del Rei\"\n",
    "\n",
    "    return dataFrame\n",
    "\n",
    "def renomeiaColunas(dataFrame):\n",
    "    return dataFrame.rename(columns= {\n",
    "        'M_PIB':           'IBGE_MUNICIPIO_PIB', \n",
    "        'M_POP':           'IBGE_MUNICIPIO_POP',\n",
    "        'M_PIB_POP':       'IBGE_MUNICIPIO_PIBPERCAPTA',\n",
    "    })"
   ]
  },
  {
   "cell_type": "code",
   "execution_count": 4,
   "metadata": {},
   "outputs": [
    {
     "name": "stdout",
     "output_type": "stream",
     "text": [
      "Finalizado!\n",
      "\n"
     ]
    }
   ],
   "source": [
    "print('Agregaçao dos dados do IBGE..\\n')\n",
    "dataFrameIBGE = scIBGE.agregacaoDadosIBGE(dataFrameINEP)\n",
    "clear_output(wait=True)\n",
    "\n",
    "dataFrameIBGE = ajusteNomeCidade(dataFrameIBGE)\n",
    "dataFrameIBGE = renomeiaColunas(dataFrameIBGE)\n",
    "\n",
    "print('Finalizado!\\n')"
   ]
  },
  {
   "cell_type": "code",
   "execution_count": 5,
   "metadata": {},
   "outputs": [],
   "source": [
    "dataFrameIBGE.to_csv(f'result/IBGE.csv', index=False)"
   ]
  }
 ],
 "metadata": {
  "kernelspec": {
   "display_name": "Python 3",
   "language": "python",
   "name": "python3"
  },
  "language_info": {
   "codemirror_mode": {
    "name": "ipython",
    "version": 3
   },
   "file_extension": ".py",
   "mimetype": "text/x-python",
   "name": "python",
   "nbconvert_exporter": "python",
   "pygments_lexer": "ipython3",
   "version": "3.11.0"
  },
  "vscode": {
   "interpreter": {
    "hash": "397ded43423ab50173f91d648ca407046bf3aab8251a4e5cffb6ba8dc8b9667f"
   }
  }
 },
 "nbformat": 4,
 "nbformat_minor": 2
}
