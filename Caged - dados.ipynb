{
 "cells": [
  {
   "cell_type": "markdown",
   "metadata": {},
   "source": [
    "### Caged - dados\n",
    "Arquivo utilizado para a leitura, agregação e limpeza dos dados do CAGED"
   ]
  },
  {
   "cell_type": "code",
   "execution_count": 1,
   "metadata": {},
   "outputs": [],
   "source": [
    "import pandas as pd\n",
    "import var as var\n",
    "import sys\n",
    "\n",
    "sys.path.insert(1, './script/')\n",
    "import caged as scCAGED"
   ]
  },
  {
   "cell_type": "code",
   "execution_count": 3,
   "metadata": {},
   "outputs": [],
   "source": [
    "# função para renomear as colunas do dataframe\n",
    "def renomeiaColunas(dataFrame):\n",
    "    return dataFrame.rename(columns= {\n",
    "        'M_ADMISSAO':               'CAGED_MUNICIPIO_ADMISSOES', \n",
    "        'M_DESLIGAMENTO':           'CAGED_MUNICIPIO_DESLIGAMENTOS',\n",
    "        'M_SALARIO':                'CAGED_MUNICIPIO_SALARIO',\n",
    "        'M_IDADE_ADMISSAO':         'CAGED_MUNICIPIO_ADMISSOES_IDADE',\n",
    "        'M_IDADE_DESLIGAMENTO':     'CAGED_MUNICIPIO_DESLIGAMENTOS_IDADE',\n",
    "        'M_HORA_CONTRATO':          'CAGED_MUNICIPIO_HORA_CONTRATO',\n",
    "        'M_SALARIO_MINIMO':         'CAGED_MUNICIPIO_SALARIO_MINIMO',\n",
    "        'M_SALDO':                  'CAGED_MUNICIPIO_SALDO',\n",
    "\n",
    "        # !!!\n",
    "        'M_DIF_ADMISSAO':           'CAGED_MUNICIPIO_DIFERENCA_ADMISSAO',\n",
    "        # !!!\n",
    "    })\n",
    "\n",
    "# dataset inep\n",
    "dataFrameINEP = pd.read_csv(f'result/INEP.csv')\n",
    "dataFrameINEP"
   ]
  },
  {
   "cell_type": "code",
   "execution_count": 4,
   "metadata": {},
   "outputs": [],
   "source": [
    "# alteração dos dados de txt para parquet e remoção de colunas\n",
    "if var.CREATE_PARQUET_FILES:\n",
    "    print('Alteração dos dados...\\n')\n",
    "    scCAGED.firstAccessData()"
   ]
  },
  {
   "cell_type": "code",
   "execution_count": 5,
   "metadata": {},
   "outputs": [
    {
     "name": "stdout",
     "output_type": "stream",
     "text": [
      "Ajustes no(s) ano(s) de 2009, 2010, 2011, 2012, 2013, 2014, 2015, 2016, 2017, 2018, 2019 e 2020 finalizado!!\n"
     ]
    }
   ],
   "source": [
    "# processamento e limpeza dos dados\n",
    "print('Ajuste dados de .TXT para .CSV..\\n')\n",
    "scCAGED.processData(dataFrameINEP['CO_MUNICIPIO'].unique().tolist(), var.PROCESS_CSV_FILES, var.PROCESS_PARQUET_FILES, var.READ_PARQUET_FILES)"
   ]
  },
  {
   "cell_type": "code",
   "execution_count": 3,
   "metadata": {},
   "outputs": [
    {
     "name": "stdout",
     "output_type": "stream",
     "text": [
      "Valor (em %) da redução dos arquivos:\n",
      "\n",
      "Ano: 2009:\n",
      "- Mes 01: Reducao de 87.37%\n",
      "- Mes 02: Reducao de 87.30%\n",
      "- Mes 03: Reducao de 87.70%\n",
      "- Mes 04: Reducao de 87.69%\n",
      "- Mes 05: Reducao de 87.51%\n",
      "- Mes 06: Reducao de 87.54%\n",
      "- Mes 07: Reducao de 87.61%\n",
      "- Mes 08: Reducao de 87.67%\n",
      "- Mes 09: Reducao de 87.73%\n",
      "- Mes 10: Reducao de 87.53%\n",
      "- Mes 11: Reducao de 87.65%\n",
      "- Mes 12: Reducao de 87.75%\n",
      "\n",
      "Total tamanho txt: 1.46 GB\n",
      "Total tamanho parquet: 185.61 MB\n",
      "\n",
      "Reducao de 87.59%\n",
      "\n",
      "Ano: 2010:\n",
      "- Mes 01: Reducao de 87.15%\n",
      "- Mes 02: Reducao de 87.20%\n",
      "- Mes 03: Reducao de 87.72%\n",
      "- Mes 04: Reducao de 87.36%\n",
      "- Mes 05: Reducao de 87.44%\n",
      "- Mes 06: Reducao de 87.26%\n",
      "- Mes 07: Reducao de 87.13%\n",
      "- Mes 08: Reducao de 87.27%\n",
      "- Mes 09: Reducao de 87.33%\n",
      "- Mes 10: Reducao de 87.27%\n",
      "- Mes 11: Reducao de 87.31%\n",
      "- Mes 12: Reducao de 87.76%\n",
      "\n",
      "Total tamanho txt: 1.69 GB\n",
      "Total tamanho parquet: 218.8 MB\n",
      "\n",
      "Reducao de 87.35%\n",
      "\n",
      "Ano: 2011:\n",
      "- Mes 01: Reducao de 87.69%\n",
      "- Mes 02: Reducao de 87.66%\n",
      "- Mes 03: Reducao de 87.86%\n",
      "- Mes 04: Reducao de 88.77%\n",
      "- Mes 05: Reducao de 87.74%\n",
      "- Mes 06: Reducao de 87.67%\n",
      "- Mes 07: Reducao de 88.74%\n",
      "- Mes 08: Reducao de 87.66%\n",
      "- Mes 09: Reducao de 87.68%\n",
      "- Mes 10: Reducao de 88.62%\n",
      "- Mes 11: Reducao de 87.64%\n",
      "- Mes 12: Reducao de 87.65%\n",
      "\n",
      "Total tamanho txt: 1.85 GB\n",
      "Total tamanho parquet: 227.8 MB\n",
      "\n",
      "Reducao de 87.95%\n",
      "\n",
      "Ano: 2012:\n",
      "- Mes 01: Reducao de 88.56%\n",
      "- Mes 02: Reducao de 87.67%\n",
      "- Mes 03: Reducao de 87.71%\n",
      "- Mes 04: Reducao de 87.78%\n",
      "- Mes 05: Reducao de 87.90%\n",
      "- Mes 06: Reducao de 87.63%\n",
      "- Mes 07: Reducao de 87.62%\n",
      "- Mes 08: Reducao de 87.61%\n",
      "- Mes 09: Reducao de 87.54%\n",
      "- Mes 10: Reducao de 87.55%\n",
      "- Mes 11: Reducao de 87.57%\n",
      "- Mes 12: Reducao de 87.58%\n",
      "\n",
      "Total tamanho txt: 1.86 GB\n",
      "Total tamanho parquet: 233.71 MB\n",
      "\n",
      "Reducao de 87.73%\n",
      "\n",
      "Ano: 2013:\n",
      "- Mes 01: Reducao de 87.64%\n",
      "- Mes 02: Reducao de 87.59%\n",
      "- Mes 03: Reducao de 87.54%\n",
      "- Mes 04: Reducao de 87.63%\n",
      "- Mes 05: Reducao de 87.50%\n",
      "- Mes 06: Reducao de 87.50%\n",
      "- Mes 07: Reducao de 87.42%\n",
      "- Mes 08: Reducao de 87.46%\n",
      "- Mes 09: Reducao de 87.56%\n",
      "- Mes 10: Reducao de 88.44%\n",
      "- Mes 11: Reducao de 87.40%\n",
      "- Mes 12: Reducao de 87.32%\n",
      "\n",
      "Total tamanho txt: 1.91 GB\n",
      "Total tamanho parquet: 243.19 MB\n",
      "\n",
      "Reducao de 87.59%\n",
      "\n",
      "Ano: 2014:\n",
      "- Mes 01: Reducao de 87.47%\n",
      "- Mes 02: Reducao de 87.48%\n",
      "- Mes 03: Reducao de 87.40%\n",
      "- Mes 04: Reducao de 88.52%\n",
      "- Mes 05: Reducao de 87.44%\n",
      "- Mes 06: Reducao de 87.27%\n",
      "- Mes 07: Reducao de 87.39%\n",
      "- Mes 08: Reducao de 87.26%\n",
      "- Mes 09: Reducao de 87.32%\n",
      "- Mes 10: Reducao de 88.26%\n",
      "- Mes 11: Reducao de 87.21%\n",
      "- Mes 12: Reducao de 87.18%\n",
      "\n",
      "Total tamanho txt: 1.91 GB\n",
      "Total tamanho parquet: 244.56 MB\n",
      "\n",
      "Reducao de 87.53%\n",
      "\n",
      "Ano: 2015:\n",
      "- Mes 01: Reducao de 87.09%\n",
      "- Mes 02: Reducao de 87.12%\n",
      "- Mes 03: Reducao de 87.11%\n",
      "- Mes 04: Reducao de 87.08%\n",
      "- Mes 05: Reducao de 87.05%\n",
      "- Mes 06: Reducao de 86.89%\n",
      "- Mes 07: Reducao de 87.97%\n",
      "- Mes 08: Reducao de 86.86%\n",
      "- Mes 09: Reducao de 86.85%\n",
      "- Mes 10: Reducao de 87.98%\n",
      "- Mes 11: Reducao de 86.74%\n",
      "- Mes 12: Reducao de 86.76%\n",
      "\n",
      "Total tamanho txt: 1.64 GB\n",
      "Total tamanho parquet: 216.65 MB\n",
      "\n",
      "Reducao de 87.13%\n",
      "\n",
      "Ano: 2016:\n",
      "- Mes 01: Reducao de 86.76%\n",
      "- Mes 02: Reducao de 86.78%\n",
      "- Mes 03: Reducao de 86.65%\n",
      "- Mes 04: Reducao de 87.82%\n",
      "- Mes 05: Reducao de 86.68%\n",
      "- Mes 06: Reducao de 86.63%\n",
      "- Mes 07: Reducao de 86.57%\n",
      "- Mes 08: Reducao de 86.75%\n",
      "- Mes 09: Reducao de 86.69%\n",
      "- Mes 10: Reducao de 86.62%\n",
      "- Mes 11: Reducao de 86.67%\n",
      "- Mes 12: Reducao de 86.65%\n",
      "\n",
      "Total tamanho txt: 1.38 GB\n",
      "Total tamanho parquet: 187.08 MB\n",
      "\n",
      "Reducao de 86.78%\n",
      "\n",
      "Ano: 2017:\n",
      "- Mes 01: Reducao de 87.78%\n",
      "- Mes 02: Reducao de 86.50%\n",
      "- Mes 03: Reducao de 86.40%\n",
      "- Mes 04: Reducao de 86.43%\n",
      "- Mes 05: Reducao de 86.59%\n",
      "- Mes 06: Reducao de 86.38%\n",
      "- Mes 07: Reducao de 87.54%\n",
      "- Mes 08: Reducao de 86.67%\n",
      "- Mes 09: Reducao de 87.68%\n",
      "- Mes 10: Reducao de 86.64%\n",
      "- Mes 11: Reducao de 87.75%\n",
      "- Mes 12: Reducao de 87.74%\n",
      "\n",
      "Total tamanho txt: 1.32 GB\n",
      "Total tamanho parquet: 175.51 MB\n",
      "\n",
      "Reducao de 86.99%\n",
      "\n",
      "Ano: 2018:\n",
      "- Mes 01: Reducao de 86.51%\n",
      "- Mes 02: Reducao de 87.73%\n",
      "- Mes 03: Reducao de 87.77%\n",
      "- Mes 04: Reducao de 87.66%\n",
      "- Mes 05: Reducao de 86.51%\n",
      "- Mes 06: Reducao de 86.41%\n",
      "- Mes 07: Reducao de 86.47%\n",
      "- Mes 08: Reducao de 87.72%\n",
      "- Mes 09: Reducao de 87.70%\n",
      "- Mes 10: Reducao de 87.67%\n",
      "- Mes 11: Reducao de 87.74%\n",
      "- Mes 12: Reducao de 87.81%\n",
      "\n",
      "Total tamanho txt: 1.36 GB\n",
      "Total tamanho parquet: 177.33 MB\n",
      "\n",
      "Reducao de 87.31%\n",
      "\n",
      "Ano: 2019:\n",
      "- Mes 01: Reducao de 87.70%\n",
      "- Mes 02: Reducao de 87.66%\n",
      "- Mes 03: Reducao de 87.55%\n",
      "- Mes 04: Reducao de 87.69%\n",
      "- Mes 05: Reducao de 87.63%\n",
      "- Mes 06: Reducao de 87.80%\n",
      "- Mes 07: Reducao de 87.58%\n",
      "- Mes 08: Reducao de 87.52%\n",
      "- Mes 09: Reducao de 87.63%\n",
      "- Mes 10: Reducao de 87.61%\n",
      "- Mes 11: Reducao de 87.67%\n",
      "- Mes 12: Reducao de 87.57%\n",
      "\n",
      "Total tamanho txt: 1.44 GB\n",
      "Total tamanho parquet: 182.0 MB\n",
      "\n",
      "Reducao de 87.63%\n",
      "\n",
      "Ano: 2020:\n",
      "- Mes 01: Reducao de 78.08%\n",
      "- Mes 02: Reducao de 77.76%\n",
      "- Mes 03: Reducao de 77.80%\n",
      "- Mes 04: Reducao de 77.83%\n",
      "- Mes 05: Reducao de 77.87%\n",
      "- Mes 06: Reducao de 77.88%\n",
      "- Mes 07: Reducao de 77.70%\n",
      "- Mes 08: Reducao de 77.63%\n",
      "- Mes 09: Reducao de 77.60%\n",
      "- Mes 10: Reducao de 77.56%\n",
      "- Mes 11: Reducao de 77.63%\n",
      "- Mes 12: Reducao de 77.63%\n",
      "\n",
      "Total tamanho txt: 1.28 GB\n",
      "Total tamanho parquet: 291.31 MB\n",
      "\n",
      "Reducao de 77.74%\n",
      "\n",
      "** Reducao total de 86.80% **\n"
     ]
    }
   ],
   "source": [
    "# diferença entre os arquivos\n",
    "if var.SHOW_DIFFERENCE_BETWEEN_PARQUET_CSV_FILES:\n",
    "    print('Valor (em %) da redução dos arquivos:\\n')\n",
    "    scCAGED.checkDifferentSizes(showAno=True, showMes=True)"
   ]
  },
  {
   "cell_type": "code",
   "execution_count": 7,
   "metadata": {},
   "outputs": [
    {
     "name": "stdout",
     "output_type": "stream",
     "text": [
      "Agregando dados de 2020.\n"
     ]
    }
   ],
   "source": [
    "# agregação dos dados do CAGED\n",
    "print('Agregaçao dos dados do CAGED..\\n')\n",
    "dataFrameCAGED = scCAGED.agregacaoDados(dataFrameINEP, not var.READ_PARQUET_FILES, var.READ_PARQUET_FILES)"
   ]
  },
  {
   "cell_type": "code",
   "execution_count": 10,
   "metadata": {},
   "outputs": [
    {
     "name": "stdout",
     "output_type": "stream",
     "text": [
      "Finalizado!\n",
      "\n"
     ]
    }
   ],
   "source": [
    "dataFrameCAGED = renomeiaColunas(dataFrameCAGED)\n",
    "dataFrameCAGED.to_csv(f'result/CAGED.csv', index=False)\n",
    "print('Finalizado!\\n')"
   ]
  },
  {
   "cell_type": "markdown",
   "metadata": {},
   "source": [
    "### *Atenção*: As funções abaixo são utilizadas para as visualizações presentes no arquivo `Caged - visualizacao.ipynb`. Caso queira visualizar as informações, execute as células abaixo e então acesse o arquivo.\n",
    "### *Observação*: Cada função é responsável por gerar um arquivo único que contem os dados referente a: salario, admissoes, demissoes e o saldo para todas as áreas definidas pelo CNAE e para as escolhidas pelo usuário no arquivo `var.py`. Logo, é esperado um alto processamento e consecutivamente um alto tempo de execução."
   ]
  },
  {
   "cell_type": "code",
   "execution_count": 2,
   "metadata": {},
   "outputs": [
    {
     "name": "stderr",
     "output_type": "stream",
     "text": [
      "1it [00:00,  8.45it/s]\n"
     ]
    }
   ],
   "source": [
    "scCAGED.generateSal()"
   ]
  },
  {
   "cell_type": "code",
   "execution_count": 3,
   "metadata": {},
   "outputs": [
    {
     "name": "stderr",
     "output_type": "stream",
     "text": [
      "1it [00:00, 74.47it/s]\n"
     ]
    }
   ],
   "source": [
    "scCAGED.generateSal(True)"
   ]
  },
  {
   "cell_type": "code",
   "execution_count": null,
   "metadata": {},
   "outputs": [],
   "source": [
    "scCAGED.generateAdmission()"
   ]
  },
  {
   "cell_type": "code",
   "execution_count": null,
   "metadata": {},
   "outputs": [],
   "source": [
    "scCAGED.generateAdmission(True)"
   ]
  },
  {
   "cell_type": "code",
   "execution_count": null,
   "metadata": {},
   "outputs": [],
   "source": [
    "scCAGED.generateSaldo()"
   ]
  },
  {
   "cell_type": "code",
   "execution_count": null,
   "metadata": {},
   "outputs": [],
   "source": [
    "scCAGED.generateSaldo(True)"
   ]
  }
 ],
 "metadata": {
  "kernelspec": {
   "display_name": "Python 3",
   "language": "python",
   "name": "python3"
  },
  "language_info": {
   "codemirror_mode": {
    "name": "ipython",
    "version": 3
   },
   "file_extension": ".py",
   "mimetype": "text/x-python",
   "name": "python",
   "nbconvert_exporter": "python",
   "pygments_lexer": "ipython3",
   "version": "3.11.0"
  },
  "vscode": {
   "interpreter": {
    "hash": "397ded43423ab50173f91d648ca407046bf3aab8251a4e5cffb6ba8dc8b9667f"
   }
  }
 },
 "nbformat": 4,
 "nbformat_minor": 2
}
